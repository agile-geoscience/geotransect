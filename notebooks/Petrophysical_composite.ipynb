{
 "metadata": {
  "name": "",
  "signature": "sha256:48428a2252d1edbda4be559234f81bb50fc676589ce1f0b8997db8fa24c667e9"
 },
 "nbformat": 3,
 "nbformat_minor": 0,
 "worksheets": [
  {
   "cells": [
    {
     "cell_type": "heading",
     "level": 1,
     "metadata": {},
     "source": [
      "Petrophysical Composite for Interpretation Work"
     ]
    },
    {
     "cell_type": "markdown",
     "metadata": {},
     "source": [
      "Let's build a petrophysical composite display for a single well with:\n",
      "\n",
      "- Logs (GammaRay Track, Resistivity Track, Neutron-Density Track, Sonic, Synthetic)\n",
      "- Stiplog Track\n",
      "- Textual cutting descriptions\n",
      "- Markers or tops annotations\n",
      "- Can switch between time and depth"
     ]
    },
    {
     "cell_type": "markdown",
     "metadata": {},
     "source": [
      "Let's use the P-129 well from the demo data"
     ]
    },
    {
     "cell_type": "code",
     "collapsed": false,
     "input": [
      "import matplotlib.pyplot as plt\n",
      "import numpy as np\n",
      "% matplotlib inline"
     ],
     "language": "python",
     "metadata": {},
     "outputs": [],
     "prompt_number": 199
    },
    {
     "cell_type": "code",
     "collapsed": false,
     "input": [
      "cd ~"
     ],
     "language": "python",
     "metadata": {},
     "outputs": [
      {
       "output_type": "stream",
       "stream": "stdout",
       "text": [
        "/Users/Evan\n"
       ]
      }
     ],
     "prompt_number": 251
    },
    {
     "cell_type": "code",
     "collapsed": false,
     "input": [
      "cd geotransect/scripts/"
     ],
     "language": "python",
     "metadata": {},
     "outputs": [
      {
       "output_type": "stream",
       "stream": "stdout",
       "text": [
        "[Errno 2] No such file or directory: 'geotransect/scripts/'\n",
        "/Users/Evan/Dropbox/geotransect_test/data/wells\n"
       ]
      }
     ],
     "prompt_number": 265
    },
    {
     "cell_type": "code",
     "collapsed": false,
     "input": [
      "from las import LASReader"
     ],
     "language": "python",
     "metadata": {},
     "outputs": [],
     "prompt_number": 266
    },
    {
     "cell_type": "code",
     "collapsed": false,
     "input": [
      "from lithology import intervals_from_las3_string"
     ],
     "language": "python",
     "metadata": {},
     "outputs": [],
     "prompt_number": 267
    },
    {
     "cell_type": "code",
     "collapsed": false,
     "input": [
      "ls"
     ],
     "language": "python",
     "metadata": {},
     "outputs": [
      {
       "output_type": "stream",
       "stream": "stdout",
       "text": [
        "\u001b[34mP-111\u001b[m\u001b[m/ \u001b[34mP-112\u001b[m\u001b[m/ \u001b[34mP-129\u001b[m\u001b[m/\r\n"
       ]
      }
     ],
     "prompt_number": 269
    },
    {
     "cell_type": "code",
     "collapsed": false,
     "input": [
      "# well_dir = 'data/wells/P-129/'"
     ],
     "language": "python",
     "metadata": {},
     "outputs": [],
     "prompt_number": 263
    },
    {
     "cell_type": "code",
     "collapsed": false,
     "input": [],
     "language": "python",
     "metadata": {},
     "outputs": [
      {
       "output_type": "stream",
       "stream": "stdout",
       "text": [
        "\u001b[34mP-111\u001b[m\u001b[m/ \u001b[34mP-112\u001b[m\u001b[m/ \u001b[34mP-129\u001b[m\u001b[m/\r\n"
       ]
      }
     ],
     "prompt_number": 264
    },
    {
     "cell_type": "code",
     "collapsed": false,
     "input": [
      "lithwell = LASReader('P-129/lithology_log/P-129_striplog.las', unknown_as_other=True)"
     ],
     "language": "python",
     "metadata": {},
     "outputs": [
      {
       "output_type": "stream",
       "stream": "stderr",
       "text": [
        "/Users/Evan/Library/Enthought/Canopy_64bit/User/lib/python2.7/site-packages/numpy/lib/npyio.py:816: UserWarning: loadtxt: Empty input file: \"<open file 'P-129/lithology_log/P-129_striplog.las', mode 'r' at 0x10e6ff300>\"\n",
        "  warnings.warn('loadtxt: Empty input file: \"%s\"' % fname)\n"
       ]
      }
     ],
     "prompt_number": 270
    },
    {
     "cell_type": "code",
     "collapsed": false,
     "input": [
      "striplog = intervals_from_las3_string(lithwell.other)"
     ],
     "language": "python",
     "metadata": {},
     "outputs": [],
     "prompt_number": 271
    },
    {
     "cell_type": "code",
     "collapsed": false,
     "input": [
      "from utils import summarize_rock\n",
      "from legends import helen, legend"
     ],
     "language": "python",
     "metadata": {},
     "outputs": [],
     "prompt_number": 375
    },
    {
     "cell_type": "code",
     "collapsed": false,
     "input": [
      "r = {'code': 4,\n",
      " 'colour': 'Red',\n",
      " 'grainsize': None,\n",
      " 'lithology': 'Sandstone',\n",
      " 'map colour': 'F2FF42',\n",
      " 'summary': 'Sandstone, F-M, Grey',\n",
      " 'width': 4}"
     ],
     "language": "python",
     "metadata": {},
     "outputs": [],
     "prompt_number": 376
    },
    {
     "cell_type": "code",
     "collapsed": false,
     "input": [
      "striplog['tops'][0]\n",
      "striplog['bases'][0]"
     ],
     "language": "python",
     "metadata": {},
     "outputs": [
      {
       "metadata": {},
       "output_type": "pyout",
       "prompt_number": 273,
       "text": [
        "299.986"
       ]
      }
     ],
     "prompt_number": 273
    },
    {
     "cell_type": "code",
     "collapsed": false,
     "input": [
      "striplog.keys()"
     ],
     "language": "python",
     "metadata": {},
     "outputs": [
      {
       "metadata": {},
       "output_type": "pyout",
       "prompt_number": 274,
       "text": [
        "['bases', 'tops', 'liths']"
       ]
      }
     ],
     "prompt_number": 274
    },
    {
     "cell_type": "code",
     "collapsed": false,
     "input": [
      "logs = LASReader('P-129/wireline_log/P-129_out.LAS')"
     ],
     "language": "python",
     "metadata": {},
     "outputs": [],
     "prompt_number": 272
    },
    {
     "cell_type": "code",
     "collapsed": true,
     "input": [
      "Z = logs.data['DEPT']\n",
      "GR = logs.data['GR']\n",
      "DT = logs.data['DT'] \n",
      "DPHISS = logs.data['DPHI_SAN']\n",
      "DTS = logs.data['DTS']\n",
      "RT_HRLT = logs.data['RT_HRLT']\n",
      "RHOB = logs.data['RHOB']"
     ],
     "language": "python",
     "metadata": {},
     "outputs": [],
     "prompt_number": 426
    },
    {
     "cell_type": "code",
     "collapsed": false,
     "input": [
      "log_dict = {\n",
      "            'GR':GR, \n",
      "            'DT':DT, \n",
      "            'DPHI_SAN':DPHISS, \n",
      "            'DTS':DTS, \n",
      "            'RT_HRLT':RT_HRLT,\n",
      "            'RHOB':RHOB\n",
      "            }"
     ],
     "language": "python",
     "metadata": {},
     "outputs": [],
     "prompt_number": 427
    },
    {
     "cell_type": "markdown",
     "metadata": {},
     "source": [
      "we only want to plot a segment of the well between a top and base"
     ]
    },
    {
     "cell_type": "code",
     "collapsed": false,
     "input": [
      "cd scripts/"
     ],
     "language": "python",
     "metadata": {},
     "outputs": [
      {
       "output_type": "stream",
       "stream": "stdout",
       "text": [
        "[Errno 2] No such file or directory: 'scripts/'\n",
        "/Users/Evan/geotransect/scripts\n"
       ]
      }
     ],
     "prompt_number": 301
    },
    {
     "cell_type": "code",
     "collapsed": false,
     "input": [
      "top = 500\n",
      "bottom = 1000\n",
      "zrange = (top, bottom)\n",
      "strip_width = 100"
     ],
     "language": "python",
     "metadata": {},
     "outputs": [],
     "prompt_number": 374
    },
    {
     "cell_type": "code",
     "collapsed": false,
     "input": [
      "summarize_rock(r, fmt='%C %g %l')"
     ],
     "language": "python",
     "metadata": {},
     "outputs": [
      {
       "metadata": {},
       "output_type": "pyout",
       "prompt_number": 377,
       "text": [
        "'Red sandstone'"
       ]
      }
     ],
     "prompt_number": 377
    },
    {
     "cell_type": "code",
     "collapsed": false,
     "input": [
      "from matplotlib.patches import Rectangle\n",
      "from matplotlib.ticker import Formatter, FixedLocator"
     ],
     "language": "python",
     "metadata": {},
     "outputs": [],
     "prompt_number": 417
    },
    {
     "cell_type": "code",
     "collapsed": false,
     "input": [
      "def plot_striplog(ax, striplog, legend, width=1, ladder=False, summaries=False, minthick=1, alpha=0.75):\n",
      "    \n",
      "    for t, b, l in zip(striplog['tops'],striplog['bases'], striplog['liths']):\n",
      "        origin = (0, t)\n",
      "        colour = '#' + l['map colour'].strip()\n",
      "        thick = b - t\n",
      "        \n",
      "        if ladder:\n",
      "            w = legend[colour[1:]]['width']\n",
      "        else:\n",
      "            w = width\n",
      "            \n",
      "        rect = Rectangle(origin, w, thick, color=colour, edgecolor='k', \n",
      "                         linewidth=1.0, alpha=alpha)\n",
      "        ax.add_patch(rect)\n",
      "\n",
      "        if summaries:\n",
      "            if thick >= minthick:\n",
      "                ax.text(6, t+thick/2, summarize(l), verticalalignment='center')\n",
      "\n",
      "    return ax"
     ],
     "language": "python",
     "metadata": {},
     "outputs": [],
     "prompt_number": 665
    },
    {
     "cell_type": "code",
     "collapsed": false,
     "input": [
      "import csv\n",
      "from StringIO import StringIO\n",
      "import re"
     ],
     "language": "python",
     "metadata": {},
     "outputs": [],
     "prompt_number": 452
    },
    {
     "cell_type": "code",
     "collapsed": false,
     "input": [
      "def get_curve_params(abbrev, fname):\n",
      "    \"\"\"\n",
      "    returns a dictionary of petrophysical parameters for \n",
      "    plotting purposes\n",
      "    \"\"\"\n",
      "    params = {}\n",
      "    with open(fname, 'rU') as csvfile:\n",
      "        reader = csv.DictReader(csvfile) \n",
      "        for row in reader:\n",
      "            if row['acronymn'] == abbrev:\n",
      "                params['acronymn'] = row['acronymn']\n",
      "                params['track'] = int(row['track'])\n",
      "                params['units'] = row['units']\n",
      "                params['xleft'] = float(row['xleft'])\n",
      "                params['xright'] = float(row['xright'])\n",
      "                params['logarithmic'] = row['logarithmic']\n",
      "                params['hexcolor']= row['hexcolor']\n",
      "                params['fill_left_cond']= bool(row['fill_left_cond'])\n",
      "                params['fill_left']= row['fill_left']\n",
      "                params['fill_right_cond']= bool(row['fill_right_cond'])\n",
      "                params['fill_right']= row['fill_right'] \n",
      "                params['xticks']= row['xticks'] \n",
      "    \n",
      "    return params"
     ],
     "language": "python",
     "metadata": {},
     "outputs": [],
     "prompt_number": 488
    },
    {
     "cell_type": "code",
     "collapsed": false,
     "input": [
      "fname = 'Petrophysics_display_template.csv'\n",
      "params = get_curve_params('RT_HRLT', fname)\n",
      "\n",
      "params.has_key('fill_left_cond')\n"
     ],
     "language": "python",
     "metadata": {},
     "outputs": [
      {
       "metadata": {},
       "output_type": "pyout",
       "prompt_number": 856,
       "text": [
        "True"
       ]
      }
     ],
     "prompt_number": 856
    },
    {
     "cell_type": "code",
     "collapsed": false,
     "input": [
      "params.keys()"
     ],
     "language": "python",
     "metadata": {},
     "outputs": [
      {
       "metadata": {},
       "output_type": "pyout",
       "prompt_number": 576,
       "text": [
        "['fill_right_cond',\n",
        " 'fill_left_cond',\n",
        " 'xleft',\n",
        " 'track',\n",
        " 'acronymn',\n",
        " 'xticks',\n",
        " 'xright',\n",
        " 'fill_right',\n",
        " 'fill_left',\n",
        " 'hexcolor',\n",
        " 'units',\n",
        " 'logarithmic']"
       ]
      }
     ],
     "prompt_number": 576
    },
    {
     "cell_type": "code",
     "collapsed": false,
     "input": [
      "for curve in log_dict:\n",
      "    print curve"
     ],
     "language": "python",
     "metadata": {},
     "outputs": [
      {
       "output_type": "stream",
       "stream": "stdout",
       "text": [
        "RT_HRLT\n",
        "GR\n",
        "DPHI_SAN\n",
        "DTS\n",
        "RHOB\n",
        "DT\n"
       ]
      }
     ],
     "prompt_number": 577
    },
    {
     "cell_type": "code",
     "collapsed": false,
     "input": [
      "# Subplots adjustment params\n",
      "\n",
      "left  = 0.125  # the left side of the subplots of the figure\n",
      "right = 0.9    # the right side of the subplots of the figure\n",
      "bottom = 0.1   # the bottom of the subplots of the figure\n",
      "top = 0.9      # the top of the subplots of the figure\n",
      "wspace = 0.1   # the amount of width reserved for blank space between subplots\n",
      "hspace = 0.5   # the amount of height reserved for white space between subplots"
     ],
     "language": "python",
     "metadata": {},
     "outputs": [],
     "prompt_number": 578
    },
    {
     "cell_type": "code",
     "collapsed": false,
     "input": [
      "# Do a smoothing function\n",
      "def curve_smooth(curve, w):\n",
      "    \"\"\"\"takes a curve and smoothes it by a window \n",
      "    just for display purposes to remove noisy looking logs\"\"\"\n",
      "    \n",
      "    return "
     ],
     "language": "python",
     "metadata": {},
     "outputs": [],
     "prompt_number": 579
    },
    {
     "cell_type": "code",
     "collapsed": false,
     "input": [
      "from mpl_toolkits.axes_grid1 import host_subplot\n",
      "\n",
      "host = host_subplot(111)\n",
      "\n",
      "par = host.twinx()\n",
      "\n",
      "host.set_xlabel(\"Distance\")\n",
      "host.set_ylabel(\"Density\")\n",
      "par.set_ylabel(\"Temperature\")\n",
      "\n",
      "p1, = host.plot([0, 1, 2], [0, 1, 2], label=\"Density\")\n",
      "p2, = par.plot([0, 1, 2], [0, 3, 2], label=\"Temperature\")\n",
      "\n",
      "leg = plt.legend()\n",
      "\n",
      "host.yaxis.get_label().set_color(p1.get_color())\n",
      "leg.texts[0].set_color(p1.get_color())\n",
      "\n",
      "par.yaxis.get_label().set_color(p2.get_color())\n",
      "leg.texts[1].set_color(p2.get_color())\n",
      "\n",
      "plt.show()"
     ],
     "language": "python",
     "metadata": {},
     "outputs": [],
     "prompt_number": 586
    },
    {
     "cell_type": "code",
     "collapsed": false,
     "input": [
      "np.random.seed(1977)\n",
      "\n",
      "fig, ax = plt.subplots()\n",
      "\n",
      "# Twin the x-axis twice to make independent y-axes.\n",
      "axes = [ax, ax.twiny(), ax.twiny()]\n",
      "\n",
      "# Make some space on the right side for the extra y-axis.\n",
      "fig.subplots_adjust(right=0.5)\n",
      "\n",
      "# Move the last y-axis spine over to the right by 0% of the width of the axes\n",
      "axes[-1].spines['top'].set_position(('axes', 1.0))\n",
      "\n",
      "# To make the border of the right-most axis visible, we need to turn the frame\n",
      "# on. This hides the other plots, however, so we need to turn its fill off.\n",
      "axes[-1].set_frame_on(True)\n",
      "axes[-1].patch.set_visible(False)\n",
      "\n",
      "# And finally we get to plot things...\n",
      "colors = ('Green', 'Red', 'Blue')\n",
      "for ax, color in zip(axes, colors):\n",
      "    data = np.random.random(1) * np.random.random(10)\n",
      "    ax.plot(data, marker='o', linestyle='none', color=color)\n",
      "    ax.set_ylabel('%s Thing' % color, color=color)\n",
      "    ax.tick_params(axis='y', colors=color)\n",
      "axes[0].set_xlabel('X-axis')\n",
      "\n",
      "plt.show()"
     ],
     "language": "python",
     "metadata": {},
     "outputs": [],
     "prompt_number": 591
    },
    {
     "cell_type": "code",
     "collapsed": false,
     "input": [
      "striplog_tick_params = {\n",
      "                        'axis':'x',          # changes apply to the x-axis\n",
      "                        'which':'both',      # both major and minor ticks are affected\n",
      "                        'bottom':'off',      # ticks along the bottom edge are off\n",
      "                        'top':'off',         # ticks along the top edge are off\n",
      "                        'labelbottom':'off'\n",
      "                        }"
     ],
     "language": "python",
     "metadata": {},
     "outputs": [],
     "prompt_number": 606
    },
    {
     "cell_type": "code",
     "collapsed": false,
     "input": [
      "import matplotlib.ticker as ticker\n",
      "import matplotlib as mpl\n",
      "import matplotlib.transforms as transforms"
     ],
     "language": "python",
     "metadata": {},
     "outputs": [],
     "prompt_number": 785
    },
    {
     "cell_type": "code",
     "collapsed": false,
     "input": [
      "# make plot\n",
      "p = 4\n",
      "lw = 1\n",
      "height = 3*p  # in inches\n",
      "width = 2*p # in inches\n",
      "fig, axs = plt.subplots(1,p, figsize=(width, height))\n",
      "fig.subplots_adjust(left, bottom, right, top, wspace, hspace)\n",
      "fig.set_facecolor('w')\n",
      "\n",
      "axs0 = [axs[0], axs[0].twiny(), axs[0].twiny()]\n",
      "for ax in axs0:\n",
      "    ax.set_xticklabels([])\n",
      "\n",
      "plot_striplog(axs[0], striplog, legend, width = 5, alpha = 0.75, ladder=True)\n",
      "axs0[0].set_ylim([striplog['bases'][-1], 0])\n",
      "axs0[0].get_xaxis().set_visible(False)\n",
      "\n",
      "# Plot each curve with a white fill to fake the curve fill.\n",
      "for curve, values in log_dict.iteritems():\n",
      "\n",
      "    params = get_curve_params(curve, fname)\n",
      "    i = params['track']\n",
      "    linOrlog = params['logarithmic']\n",
      "\n",
      "    if i == 0:\n",
      "        print params['acronymn']\n",
      "        # plot the composite striplog track\n",
      "        norm_vals = (values-params['xleft'])/ params['xright']\n",
      "    \n",
      "        xticks = np.genfromtxt(StringIO(params['xticks']), delimiter=\",\")\n",
      "        # norm_xmaj_loc = (xticks-params['xleft'])/ params['xright']\n",
      "    \n",
      "        # need to twin xaxis labels\n",
      "        #GR, RHOB\n",
      "    \n",
      "        # clipping striplog to the left of GR\n",
      "        \n",
      "        if params['acronymn']=='GR':\n",
      "            #fill_left\n",
      "            #midline = np.mean(xticks)\n",
      "            #print \"midline\", midline\n",
      "            midline = 100\n",
      "            axs0[1].fill_betweenx(Z, values, max(params['xright'],params['xleft']),\n",
      "                                 facecolor='white', alpha = 1.0, zorder = 11)\n",
      "            axs0[1].plot(values, Z, color = params['hexcolor'], lw = lw)\n",
      "            axs0[1].set_xlim([params['xleft'],params['xright']])\n",
      "            axs0[1].set_xticks([0,100,200])\n",
      "            axs0[1].set_xticklabels([0, 100, 200])\n",
      "            axs0[1].tick_params(axis='x', direction='out')\n",
      "            for label in axs0[1].axes.xaxis.get_ticklabels():\n",
      "                label.set_rotation(90)\n",
      "            axs0[1].set_xlabel(params['acronymn']+ '\\n' + params['units'], \n",
      "                               labelpad = 20,\n",
      "                               va = 'bottom', ha = 'center')\n",
      "            ###\n",
      "            # the x coords of this transformation are data, and the\n",
      "            # y coord are axes\n",
      "            trans = transforms.blended_transform_factory(\n",
      "                    axs0[1].transData, axs0[1].transAxes)\n",
      "            axs0[1].xaxis.set_label_coords(midline, 1.05, transform=trans)\n",
      "            \n",
      "        if params['acronymn']=='RHOB':\n",
      "            midline = np.mean(xticks)\n",
      "            print \"plotting RHOB\"\n",
      "            print xticks\n",
      "            print midline\n",
      "            #fill right\n",
      "            axs0[2].fill_betweenx(Z, values, max(params['xright'],params['xleft']),\n",
      "                                 facecolor='white', alpha = 1.0, zorder = 11)\n",
      "            axs0[2].plot(values, Z, color = params['hexcolor'], lw = lw)\n",
      "            axs0[2].set_xlim([params['xleft'],params['xright']])\n",
      "            axs0[2].set_xticks([2.0, 2.5, 3.0])\n",
      "            axs0[2].set_xticklabels(['2.0', '2.5', '3.0'])\n",
      "            axs0[2].tick_params(axis='x', direction='out')\n",
      "            for label in axs0[2].axes.xaxis.get_ticklabels():\n",
      "                label.set_rotation(90)\n",
      "            axs0[2].set_xlabel(params['acronymn']+ '\\n' + params['units'],\n",
      "                               labelpad = 20,\n",
      "                               va = 'bottom', ha = 'center')\n",
      "            ###\n",
      "            # the x coords of this transformation are data, and the\n",
      "            # y coord are axes\n",
      "            trans = transforms.blended_transform_factory(\n",
      "                    axs0[2].transData, axs0[2].transAxes)\n",
      "            axs0[2].xaxis.set_label_coords(midline, 1.05, transform=trans)\n",
      "            \n",
      "            \n",
      "    else:\n",
      "        axs[i].plot(values, Z, color = params['hexcolor'], lw = lw)\n",
      "        #axs[i].set_xlim([params['xleft'],params['xright']])\n",
      "        axs0[0].set_xlim([0,0.1])\n",
      "        #axs[i].axis('off') \n",
      "        # make a custom grid ???\n",
      "        axs[i].grid()\n",
      "        \n",
      "    if i!=0:\n",
      "        axs[i].set_yticks([])\n",
      "    xticks = np.genfromtxt(StringIO(params['xticks']), delimiter=\",\")\n",
      "    midline = np.mean(xticks)\n",
      "    print params['acronymn']\n",
      "    print midline\n",
      "    axs[i].set_xscale(linOrlog)\n",
      "    axs[i].tick_params(axis='x', direction='out')\n",
      "    axs[i].set_ylim([striplog['bases'][-1], 0]) \n",
      "    axs[i].set_xlim([params['xleft'],params['xright']])\n",
      "    axs[i].xaxis.set_label_position('top')\n",
      "    axs[i].xaxis.tick_top()\n",
      "    for label in axs[i].axes.xaxis.get_ticklabels():\n",
      "        label.set_rotation(90)\n",
      "    axs[i].set_xlabel(params['acronymn']+ '\\n' + params['units'],\n",
      "                      labelpad = 20,\n",
      "                      va = 'bottom', ha = 'center')\n",
      "    trans = transforms.blended_transform_factory(\n",
      "            axs[i].transData, axs[i].transAxes)\n",
      "    axs[i].xaxis.set_label_coords(midline, 1.05, transform=trans)\n",
      "    axs[i].grid('on')\n",
      "    \n",
      "fig.show()"
     ],
     "language": "python",
     "metadata": {},
     "outputs": [
      {
       "output_type": "stream",
       "stream": "stdout",
       "text": [
        "RT_HRLT\n",
        "57.05\n",
        "GR\n",
        "GR\n",
        "175.0\n",
        "DPHI_SAN\n",
        "0.15\n",
        "DTS\n",
        "0.0\n",
        "RHOB"
       ]
      },
      {
       "output_type": "stream",
       "stream": "stdout",
       "text": [
        "\n",
        "plotting RHOB\n",
        "[ 2.   2.5  3. ]\n",
        "2.5\n",
        "RHOB\n",
        "2.5\n",
        "DT\n",
        "90.0\n"
       ]
      }
     ],
     "prompt_number": 885
    },
    {
     "cell_type": "code",
     "collapsed": false,
     "input": [
      "np.genfromtxt()"
     ],
     "language": "python",
     "metadata": {},
     "outputs": [],
     "prompt_number": 839
    },
    {
     "cell_type": "code",
     "collapsed": false,
     "input": [
      "ax = plt.gca()\n",
      "ax.set_xticks(np.arange(0,6,1))\n",
      "label = ax.set_xlabel('Xlabel', fontsize = 9)\n",
      "ax.xaxis.set_label_coords(0.9, 1.1)\n",
      "\n",
      "plt.savefig('labelAtEnd.png')\n",
      "plt.show()"
     ],
     "language": "python",
     "metadata": {},
     "outputs": [],
     "prompt_number": 776
    },
    {
     "cell_type": "code",
     "collapsed": false,
     "input": [
      "import matplotlib.patches as patches\n",
      "import matplotlib.transforms as transforms\n",
      "\n",
      "fig = plt.figure()\n",
      "ax = fig.add_subplot(111)\n",
      "\n",
      "x = np.random.randn(1000)\n",
      "\n",
      "ax.hist(x, 30)\n",
      "ax.set_title(r'$\\sigma=1 \\/ \\dots \\/ \\sigma=2$', fontsize=16)\n",
      "\n",
      "# the x coords of this transformation are data, and the\n",
      "# y coord are axes\n",
      "trans = transforms.blended_transform_factory(\n",
      "    ax.transData, ax.transAxes)\n",
      "\n",
      "# highlight the 1..2 stddev region with a span.\n",
      "# We want x to be in data coordinates and y to\n",
      "# span from 0..1 in axes coords\n",
      "rect = patches.Rectangle((1,0), width=1, height=1,\n",
      "                         transform=trans, color='yellow',\n",
      "                         alpha=0.5)\n",
      "\n",
      "ax.add_patch(rect)\n",
      "\n",
      "plt.show()"
     ],
     "language": "python",
     "metadata": {},
     "outputs": [],
     "prompt_number": 784
    },
    {
     "cell_type": "code",
     "collapsed": false,
     "input": [],
     "language": "python",
     "metadata": {},
     "outputs": []
    }
   ],
   "metadata": {}
  }
 ]
}