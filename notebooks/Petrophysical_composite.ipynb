{
 "metadata": {
  "name": "",
  "signature": "sha256:7566657a34ec0898e7676c84f4be30713310f84465d03c755a2939fba3441dae"
 },
 "nbformat": 3,
 "nbformat_minor": 0,
 "worksheets": [
  {
   "cells": [
    {
     "cell_type": "heading",
     "level": 1,
     "metadata": {},
     "source": [
      "Petrophysical Composite for Interpretation Work"
     ]
    },
    {
     "cell_type": "markdown",
     "metadata": {},
     "source": [
      "Let's build a petrophysical composite display for a single well with:\n",
      "\n",
      "- Logs (GammaRay Track, Resistivity Track, Neutron-Density Track, Sonic, Synthetic)\n",
      "- Stiplog Track\n",
      "- Textual cutting descriptions\n",
      "- Markers or tops annotations\n",
      "- Can switch between time and depth"
     ]
    },
    {
     "cell_type": "markdown",
     "metadata": {},
     "source": [
      "Let's use the P-129 well from the demo data"
     ]
    },
    {
     "cell_type": "code",
     "collapsed": false,
     "input": [
      "cd ~/agile/geotransect/scripts/"
     ],
     "language": "python",
     "metadata": {},
     "outputs": []
    },
    {
     "cell_type": "code",
     "collapsed": false,
     "input": [
      "import matplotlib.pyplot as plt\n",
      "import numpy as np\n",
      "% matplotlib "
     ],
     "language": "python",
     "metadata": {},
     "outputs": []
    },
    {
     "cell_type": "code",
     "collapsed": false,
     "input": [
      "from las import LASReader"
     ],
     "language": "python",
     "metadata": {},
     "outputs": []
    },
    {
     "cell_type": "code",
     "collapsed": false,
     "input": [
      "from lithology import intervals_from_las3_string"
     ],
     "language": "python",
     "metadata": {},
     "outputs": []
    },
    {
     "cell_type": "code",
     "collapsed": false,
     "input": [
      "from utils import summarize_rock\n",
      "from legends import helen, legend"
     ],
     "language": "python",
     "metadata": {},
     "outputs": []
    },
    {
     "cell_type": "code",
     "collapsed": false,
     "input": [
      "r = {'code': 4,\n",
      "     'colour':'Red',\n",
      "     'grainsize': None,\n",
      "     'lithology': 'Sandstone',\n",
      "     'map colour': 'F2FF42' ,\n",
      "     'summary': 'Sandstone, F-M, Grey' ,\n",
      "     'width': 4}"
     ],
     "language": "python",
     "metadata": {},
     "outputs": []
    },
    {
     "cell_type": "code",
     "collapsed": false,
     "input": [
      "# well_dir = 'data/wells/P-129/'"
     ],
     "language": "python",
     "metadata": {},
     "outputs": []
    },
    {
     "cell_type": "code",
     "collapsed": false,
     "input": [
      "cd ../data/wells/"
     ],
     "language": "python",
     "metadata": {},
     "outputs": []
    },
    {
     "cell_type": "code",
     "collapsed": false,
     "input": [
      "lithwell = LASReader('P-129/lithology_log/P-129_striplog.las', unknown_as_other=True)"
     ],
     "language": "python",
     "metadata": {},
     "outputs": []
    },
    {
     "cell_type": "code",
     "collapsed": false,
     "input": [
      "striplog = intervals_from_las3_string(lithwell.other)"
     ],
     "language": "python",
     "metadata": {},
     "outputs": []
    },
    {
     "cell_type": "code",
     "collapsed": false,
     "input": [
      "striplog.keys()"
     ],
     "language": "python",
     "metadata": {},
     "outputs": []
    },
    {
     "cell_type": "code",
     "collapsed": false,
     "input": [],
     "language": "python",
     "metadata": {},
     "outputs": []
    },
    {
     "cell_type": "code",
     "collapsed": false,
     "input": [
      "logs = LASReader('P-129/wireline_log/P-129_out.LAS')"
     ],
     "language": "python",
     "metadata": {},
     "outputs": []
    },
    {
     "cell_type": "code",
     "collapsed": true,
     "input": [
      "Z = logs.data['DEPT']\n",
      "GR = logs.data['GR']\n",
      "DT = logs.data['DT'] \n",
      "DPHISS = logs.data['DPHI_SAN']\n",
      "NPHISS = logs.data['NPHI_SAN']\n",
      "DTS = logs.data['DTS']\n",
      "RT_HRLT = logs.data['RT_HRLT']\n",
      "RHOB = logs.data['RHOB']"
     ],
     "language": "python",
     "metadata": {},
     "outputs": []
    },
    {
     "cell_type": "code",
     "collapsed": false,
     "input": [
      "log_dict = {\n",
      "            'GR':GR, \n",
      "            'DT':DT, \n",
      "            'DPHI_SAN':DPHISS,\n",
      "            'NPHI_SAN':NPHISS,\n",
      "            'DTS':DTS, \n",
      "            'RT_HRLT':RT_HRLT,\n",
      "            'RHOB':RHOB\n",
      "            }"
     ],
     "language": "python",
     "metadata": {},
     "outputs": []
    },
    {
     "cell_type": "markdown",
     "metadata": {},
     "source": [
      "we only want to plot a segment of the well between a top and base"
     ]
    },
    {
     "cell_type": "code",
     "collapsed": false,
     "input": [
      "from matplotlib.patches import Rectangle\n",
      "from matplotlib.ticker import Formatter, FixedLocator"
     ],
     "language": "python",
     "metadata": {},
     "outputs": []
    },
    {
     "cell_type": "code",
     "collapsed": false,
     "input": [
      "import csv\n",
      "from StringIO import StringIO\n",
      "import re"
     ],
     "language": "python",
     "metadata": {},
     "outputs": []
    },
    {
     "cell_type": "code",
     "collapsed": false,
     "input": [
      "top = 500\n",
      "bottom = 1000\n",
      "zrange = (top, bottom)\n",
      "strip_width = 100"
     ],
     "language": "python",
     "metadata": {},
     "outputs": []
    },
    {
     "cell_type": "code",
     "collapsed": false,
     "input": [
      "def plot_striplog(ax, striplog, legend, width=1, ladder=False, summaries=False, minthick=1, alpha=0.75):\n",
      "    \n",
      "    for t, b, l in zip(striplog['tops'],striplog['bases'], striplog['liths']):\n",
      "        origin = (0, t)\n",
      "        colour = '#' + l['map colour'].strip()\n",
      "        thick = b - t\n",
      "        \n",
      "        if ladder:\n",
      "            w = legend[colour[1:]]['width']\n",
      "        else:\n",
      "            w = width\n",
      "            \n",
      "        rect = Rectangle(origin, w, thick, color=colour, edgecolor='k', \n",
      "                         linewidth=1.0, alpha=alpha)\n",
      "        ax.add_patch(rect)\n",
      "\n",
      "        if summaries:\n",
      "            if thick >= minthick:\n",
      "                ax.text(6, t+thick/2, summarize(l), verticalalignment='center')\n",
      "\n",
      "    return ax"
     ],
     "language": "python",
     "metadata": {},
     "outputs": []
    },
    {
     "cell_type": "code",
     "collapsed": false,
     "input": [
      "def get_curve_params(abbrev, fname):\n",
      "    \"\"\"\n",
      "    returns a dictionary of petrophysical parameters for \n",
      "    plotting purposes\n",
      "    \"\"\"\n",
      "    params = {}\n",
      "    with open(fname, 'rU') as csvfile:\n",
      "        reader = csv.DictReader(csvfile) \n",
      "        for row in reader:\n",
      "            if row['acronymn'] == abbrev:\n",
      "                params['acronymn'] = row['acronymn']\n",
      "                params['track'] = int(row['track'])\n",
      "                params['units'] = row['units']\n",
      "                params['xleft'] = float(row['xleft'])\n",
      "                params['xright'] = float(row['xright'])\n",
      "                params['logarithmic'] = row['logarithmic']\n",
      "                params['hexcolor']= row['hexcolor']\n",
      "                params['fill_left_cond']= bool(row['fill_left_cond'])\n",
      "                params['fill_left']= row['fill_left']\n",
      "                params['fill_right_cond']= bool(row['fill_right_cond'])\n",
      "                params['fill_right']= row['fill_right']\n",
      "                params['xticks'] = row['xticks'].split(',')\n",
      "    return params"
     ],
     "language": "python",
     "metadata": {},
     "outputs": []
    },
    {
     "cell_type": "code",
     "collapsed": false,
     "input": [
      "pwd"
     ],
     "language": "python",
     "metadata": {},
     "outputs": []
    },
    {
     "cell_type": "code",
     "collapsed": false,
     "input": [
      "fname = '../../scripts/Petrophysics_display_template.csv'\n",
      "params = get_curve_params('RT_HRLT', fname)\n"
     ],
     "language": "python",
     "metadata": {},
     "outputs": []
    },
    {
     "cell_type": "code",
     "collapsed": false,
     "input": [
      "import re\n"
     ],
     "language": "python",
     "metadata": {},
     "outputs": []
    },
    {
     "cell_type": "code",
     "collapsed": false,
     "input": [
      "test = ['0.2', '2.0', '20.0', '200']\n",
      "string = [re.sub(\"'\",\"'\", s) for s in test]\n",
      "print string"
     ],
     "language": "python",
     "metadata": {},
     "outputs": []
    },
    {
     "cell_type": "code",
     "collapsed": false,
     "input": [
      "print \" * curves we have are: *\"\n",
      "for curve in log_dict:\n",
      "    print \"       \", curve"
     ],
     "language": "python",
     "metadata": {},
     "outputs": []
    },
    {
     "cell_type": "code",
     "collapsed": false,
     "input": [
      "# Subplots adjustment params\n",
      "\n",
      "left  = 0.125  # the left side of the subplots of the figure\n",
      "right = 0.9    # the right side of the subplots of the figure\n",
      "bottom = 0.1   # the bottom of the subplots of the figure\n",
      "top = 0.9      # the top of the subplots of the figure\n",
      "wspace = 0.1   # the amount of width reserved for blank space between subplots\n",
      "hspace = 0.5   # the amount of height reserved for white space between subplots"
     ],
     "language": "python",
     "metadata": {},
     "outputs": []
    },
    {
     "cell_type": "heading",
     "level": 3,
     "metadata": {},
     "source": [
      "Fixing editing / despiking the logs"
     ]
    },
    {
     "cell_type": "markdown",
     "metadata": {},
     "source": [
      "Functions taken from Well-tie Calculus notebook, \n",
      "\n",
      "http://nbviewer.ipython.org/github/seg/tutorials/blob/master/1406_Make_a_synthetic/how_to_make_synthetic.ipynb"
     ]
    },
    {
     "cell_type": "code",
     "collapsed": false,
     "input": [
      "def rolling_window(a, window):\n",
      "        shape = a.shape[:-1] + (a.shape[-1] - window + 1, window)\n",
      "        strides = a.strides + (a.strides[-1],)\n",
      "        rolled = np.lib.stride_tricks.as_strided(a, \n",
      "                                                 shape=shape, \n",
      "                                                 strides=strides)\n",
      "        rolled = np.median(rolled, -1)\n",
      "        rolled = np.pad(rolled, window/2, mode='edge')\n",
      "        return rolled\n",
      "    \n",
      "def despike(curve, curve_sm, max_clip): \n",
      "    spikes = np.where(curve - curve_sm > max_clip)[0]\n",
      "    spukes = np.where(curve_sm - curve > max_clip)[0]\n",
      "    out = np.copy(curve)\n",
      "    out[spikes] = curve_sm[spikes] + max_clip  # Clip at the max allowed diff\n",
      "    out[spukes] = curve_sm[spukes] - max_clip  # Clip at the min allowed diff\n",
      "    return out"
     ],
     "language": "python",
     "metadata": {},
     "outputs": []
    },
    {
     "cell_type": "code",
     "collapsed": false,
     "input": [
      "w = 31   # window length must be an even number\n",
      "frac = 0.05 # fraction of extreme values to clip (small == big clip)\n",
      "\n",
      "cmin = 1.0\n",
      "cmax = 3.5\n",
      "\n",
      "smRHOB = rolling_window(RHOB,w)#, cmin, cmax\n",
      "dsRHOB = despike(RHOB, smRHOB, frac*np.mean(RHOB))\n",
      "\n",
      "values = smRHOB\n",
      "\n",
      "plt.figure(figsize = (3,10))\n",
      "#plt.plot(np.clip(RHOB, cmin, cmax), Z, c = 'b', alpha = 0.25)\n",
      "#plt.plot(dsRHOB, Z, c = 'r', alpha = 0.25)\n",
      "plt.plot(values, Z, c = 'g', alpha = 0.55)\n",
      "\n",
      "plt.xlim([-1.0, 3.5])\n",
      "plt.ylim(Z[-1], Z[0])"
     ],
     "language": "python",
     "metadata": {},
     "outputs": []
    },
    {
     "cell_type": "code",
     "collapsed": false,
     "input": [
      "import matplotlib.ticker as ticker\n",
      "import matplotlib as mpl\n",
      "import matplotlib.transforms as transforms"
     ],
     "language": "python",
     "metadata": {},
     "outputs": []
    },
    {
     "cell_type": "code",
     "collapsed": false,
     "input": [
      "% matplotlib "
     ],
     "language": "python",
     "metadata": {},
     "outputs": []
    },
    {
     "cell_type": "code",
     "collapsed": false,
     "input": [
      "# make plot\n",
      "window = 51 # window length for smoothing must be an odd integer\n",
      "frac = 0.05\n",
      "p = 4\n",
      "lw = 1\n",
      "smooth = True\n",
      "has_striplog = True\n",
      "height = 3*p  # in inches\n",
      "width = 2*p # in inches\n",
      "fs = 12  #font size for curve labels\n",
      "\n",
      "ntracks = 4\n",
      "naxes = 0\n",
      "ncurv_per_track = np.zeros(4)\n",
      "\n",
      "if has_striplog:\n",
      "    ncurv_per_track[0]=1\n",
      "\n",
      "for curve, values in log_dict.iteritems(): \n",
      "    naxes += 1\n",
      "    params =  get_curve_params(curve, fname)\n",
      "    ncurv_per_track[params['track']] += 1\n",
      "\n",
      "fig, axs = plt.subplots(1, p, figsize=(width, height))\n",
      "fig.subplots_adjust(left, bottom, right, top, wspace, hspace)\n",
      "fig.set_facecolor('w')\n",
      "\n",
      "axss = axs[0]\n",
      "axs0 = [axss, axs[0].twiny(), axs[0].twiny()]\n",
      "axs1 = [axs[1]]\n",
      "axs2 = [axs[2]]\n",
      "axs3 = [axs[3]]\n",
      "\n",
      "axs = [axs0, axs1, axs2, axs3]\n",
      "\n",
      "plot_striplog(axs0[0], striplog, legend, width = 5, alpha = 0.75, ladder=True)\n",
      "\n",
      "axs0[0].set_ylim([striplog['bases'][-1], 0])\n",
      "\n",
      "# Plot each curve with a white fill to fake the curve fill.\n",
      "\n",
      "label_shift = np.zeros(len(axs))\n",
      "\n",
      "for curve, values in log_dict.iteritems():\n",
      "    \n",
      "    params = get_curve_params(curve, fname)\n",
      "    \n",
      "    i = params['track']\n",
      "    \n",
      "    if i == 0:\n",
      "        j = 1\n",
      "    \n",
      "    j = 0  # default number of tracks to index into\n",
      "    \n",
      "    ncurves = ncurv_per_track[i]\n",
      "    \n",
      "    label_shift[i] += 1\n",
      "    \n",
      "    units = '$%s$' % params['units']\n",
      "        \n",
      "    #crvtxt = params['acronymn']+ '\\n' + '\\n' + units\n",
      "\n",
      "    linOrlog = params['logarithmic']\n",
      "    \n",
      "    sxticks = np.array(params['xticks'])\n",
      "    xticks = np.array(sxticks, dtype = float)\n",
      "    \n",
      "    if linOrlog == 'log':\n",
      "        midline = np.log(np.mean(xticks))\n",
      "        xpos = midline \n",
      "    else:\n",
      "        midline = np.mean(xticks)\n",
      "        xpos = midline \n",
      "    \n",
      "    if smooth == True:\n",
      "        values = rolling_window(values,window)\n",
      "        \n",
      "    if params['acronymn']=='GR':\n",
      "        j = 1  # second axis in first track\n",
      "        label_shift[i] = 1\n",
      "    if params['acronymn']=='RHOB':\n",
      "        j = 2\n",
      "        label_shift[i] = 1\n",
      "        \n",
      "    #fill_left\n",
      "    if params['fill_left_cond']:\n",
      "        print i,j\n",
      "        axs[i][j].fill_betweenx(Z, params['xleft'], values,\n",
      "                            facecolor='white', alpha = 1.0, zorder = 11)\n",
      "    # fill right        \n",
      "    if params['fill_right_cond']:\n",
      "        axs[i][j].fill_betweenx(Z, values, params['xright'],\n",
      "                            facecolor='white', alpha = 1.0, zorder = 11)\n",
      "    # plot curve        \n",
      "    axs[i][j].plot(values, Z, color = params['hexcolor'], lw = lw)\n",
      "        \n",
      "    # set scale of curve\n",
      "    axs[i][j].set_xlim([params['xleft'],params['xright']])\n",
      "    axs[i][j].xaxis.set_ticks([xticks])\n",
      "    axs[i][j].set_xticklabels([sxticks])\n",
      "    \n",
      "    for label in axs[i][j].axes.xaxis.get_ticklabels():\n",
      "        label.set_rotation(90)\n",
      "            \n",
      "    axs[i][j].tick_params(axis='x', direction='out')\n",
      "        \n",
      "    # set curve label and units beneath it\n",
      "    # if this is the first curve on the axis\n",
      "    \n",
      "    # curve label\n",
      "    \n",
      "    trans = transforms.blended_transform_factory(axs[i][j].transData, axs[i][j].transData)\n",
      "    axs[i][j].text(xpos, -140 - 40*(label_shift[i] - 1), params['acronymn'],  \n",
      "                   horizontalalignment='center',                    \n",
      "                   verticalalignment='bottom',\n",
      "                   fontsize=12, color=params['hexcolor'],\n",
      "                   transform=trans)\n",
      "    # curve units\n",
      "    if label_shift[i] <= 1:\n",
      "        axs[i][j].text(xpos, -120, units,\n",
      "                   horizontalalignment='center',\n",
      "                   verticalalignment='top',\n",
      "                   fontsize=12, color='k',\n",
      "                   transform=trans)\n",
      "        # set ticks and tick labels\n",
      "        #axs[i][j].set_xticks(xticks)\n",
      "        #axs[i][j].set_xticklabels(xticks)\n",
      "    \n",
      "    axs[i][j].set_xscale(linOrlog)\n",
      "    axs[i][j].set_ylim([striplog['bases'][-1], 0]) \n",
      "    axs[i][j].xaxis.tick_top()\n",
      "    axs[i][j].xaxis.set_label_position('top')\n",
      "    \n",
      "    if i != 0:\n",
      "        axs[i][j].set_yticks([])\n",
      "    print '...............'\n",
      "fig.show()"
     ],
     "language": "python",
     "metadata": {},
     "outputs": []
    },
    {
     "cell_type": "code",
     "collapsed": false,
     "input": [
      "% matplotlib\n",
      "fig = plt.figure()\n",
      "ax = fig.add_subplot(111)\n",
      "ax.plot([1,3,4,5])\n",
      "alpha = ['a','b','c','d','e','f','g']\n",
      "ax.xaxis.set_ticklabels([])\n",
      "ax.xaxis.set_ticks([])\n",
      "ax.yaxis.set_ticks([1.1,1.2,2.1,4.5])"
     ],
     "language": "python",
     "metadata": {},
     "outputs": []
    },
    {
     "cell_type": "code",
     "collapsed": false,
     "input": [
      "plt.show()\n"
     ],
     "language": "python",
     "metadata": {},
     "outputs": []
    },
    {
     "cell_type": "code",
     "collapsed": false,
     "input": [],
     "language": "python",
     "metadata": {},
     "outputs": []
    },
    {
     "cell_type": "code",
     "collapsed": false,
     "input": [],
     "language": "python",
     "metadata": {},
     "outputs": []
    }
   ],
   "metadata": {}
  }
 ]
}