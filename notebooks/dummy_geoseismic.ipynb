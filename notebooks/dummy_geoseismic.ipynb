{
 "metadata": {
  "name": "",
  "signature": "sha256:c5d1b6217114a4c1ecf28a490c55405be9fbc4520c66917aa00506a7a5dba2d5"
 },
 "nbformat": 3,
 "nbformat_minor": 0,
 "worksheets": [
  {
   "cells": [
    {
     "cell_type": "code",
     "collapsed": false,
     "input": [
      "import numpy as np\n",
      "import matplotlib.pyplot as plt\n",
      "% matplotlib inline"
     ],
     "language": "python",
     "metadata": {},
     "outputs": [],
     "prompt_number": 1
    },
    {
     "cell_type": "code",
     "collapsed": false,
     "input": [
      "# Make dummy seismic data\n",
      "ntr = 300\n",
      "nsamps = 300\n",
      "dz = 15.0 # sample interval in metres\n",
      "seismic = np.random.rand(nsamps, ntr)\n",
      "\n",
      "srd = 0.0 #seismic reference datum\n",
      "max_z = 4500.0 # max depth of cross-section\n",
      "z_dom = np.arange(0, max_z, dz) # vertical axes domain extents\n",
      "\n",
      "start_trace = 50  #left most position of first trace along x-section"
     ],
     "language": "python",
     "metadata": {},
     "outputs": [],
     "prompt_number": 2
    },
    {
     "cell_type": "code",
     "collapsed": false,
     "input": [
      "# Make cross-section plane\n",
      "dx = 100     # offset sample interval\n",
      "xmin = 0     # xmin\n",
      "xmax = 600 * dx  # xmax\n",
      "zmin = -500   # zmin\n",
      "zmax = 5000  # zmax\n",
      "nx = xmax - xmin\n",
      "nz = zmax - zmin\n",
      "\n",
      "ve = 5.0  # vertical exaggeration\n",
      "\n",
      "xsec = np.zeros((nz, nx))"
     ],
     "language": "python",
     "metadata": {},
     "outputs": [],
     "prompt_number": 3
    },
    {
     "cell_type": "code",
     "collapsed": false,
     "input": [
      "# Make dummy elevation profile\n",
      "from matplotlib.collections import LineCollection\n",
      "offset = np.arange(xmin, xmax+dx, dx)\n",
      "c = 0.0001\n",
      "k = -0.9\n",
      "maxelev = 700.0\n",
      "elevs = maxelev*np.exp(k*offset/30000)*(np.sin(c*offset))**2\n",
      "\n",
      "# make_colors\n",
      "colors = np.zeros(len(offset))\n",
      "for i,val in enumerate(offset):\n",
      "    if i < 100:\n",
      "        colors[i] = 40.0\n",
      "    if 100 < i < 210:\n",
      "        colors[i] = 20.0\n",
      "    if 210 < i < 237:\n",
      "        colors[i] = 60.0\n",
      "    if 237 < i < 415:\n",
      "        colors[i] = 80.0\n",
      "    if 415 < i < 550:\n",
      "        colors[i] = 100.0\n",
      "#print color\n",
      "# Data manipulation:\n",
      "\n",
      "def make_segments(x, y):\n",
      "    '''\n",
      "    Create list of line segments from x and y coordinates, in the correct format for LineCollection:\n",
      "    an array of the form   numlines x (points per line) x 2 (x and y) array\n",
      "    '''\n",
      "\n",
      "    points = np.array([x, y]).T.reshape(-1, 1, 2)\n",
      "    segments = np.concatenate([points[:-1], points[1:]], axis=1)\n",
      "    \n",
      "    return segments\n",
      "\n",
      "\n",
      "# Interface to LineCollection:\n",
      "scatter(offset, elevs, s= 50, c=colors, edgecolor = 'none', cmap='jet')\n",
      "\n",
      "np.ptp(colors)"
     ],
     "language": "python",
     "metadata": {},
     "outputs": [
      {
       "metadata": {},
       "output_type": "pyout",
       "prompt_number": 4,
       "text": [
        "100.0"
       ]
      },
      {
       "metadata": {},
       "output_type": "display_data",
       "png": "[encoded data removed]",
       "text": [
        "<matplotlib.figure.Figure at 0x116880d90>"
       ]
      }
     ],
     "prompt_number": 4
    },
    {
     "cell_type": "code",
     "collapsed": false,
     "input": [
      "# Make horizon(s)\n",
      "seisx = np.arange(0, (ntr+1)*dx, dx)\n",
      "hrz1 = 2750 - 0.15*seisx\n",
      "hrz2 = 2500 - 0.17*seisx\n",
      "\n",
      "plot(seisx + start_trace*dx, hrz1, color = 'orange')\n",
      "plot(seisx + start_trace*dx, hrz2, color='y')"
     ],
     "language": "python",
     "metadata": {},
     "outputs": [
      {
       "metadata": {},
       "output_type": "pyout",
       "prompt_number": 5,
       "text": [
        "[<matplotlib.lines.Line2D at 0x1168a4f90>]"
       ]
      },
      {
       "metadata": {},
       "output_type": "display_data",
       "png": "[encoded data removed]",
       "text": [
        "<matplotlib.figure.Figure at 0x1115f3fd0>"
       ]
      }
     ],
     "prompt_number": 5
    },
    {
     "cell_type": "code",
     "collapsed": false,
     "input": [
      "# Make dummy strip log(s)\n",
      "xpos = 17500  # well penetrates the xsex at this x pos.\n",
      "kb = -400.0   # KB elevation\n",
      "td =  1800.0  # Total Depth\n",
      "width = 2000  #width of log in plot units (probably metres) for plotting\n",
      "\n",
      "intervals = np.arange(kb, td, 100)\n",
      "tops = intervals[:-1]\n",
      "bases = intervals[1:]\n",
      "liths = []\n",
      "\n",
      "for i in range(len(intervals)-1):\n",
      "    liths.append(int(width*np.random.rand(1)))"
     ],
     "language": "python",
     "metadata": {},
     "outputs": [],
     "prompt_number": 6
    },
    {
     "cell_type": "code",
     "collapsed": false,
     "input": [
      "from matplotlib.patches import Rectangle\n",
      "lith_fig = plt.figure(figsize=(3,10))\n",
      "well_ax = lith_fig.add_subplot(111)\n",
      "for t, b, w in zip(tops, bases, liths):\n",
      "    #print w\n",
      "    color = 'yellow'\n",
      "    if w > width/2:\n",
      "        color = 'brown'\n",
      "    rect1 = Rectangle((0,t), w, b - t, color=color, alpha = 0.5)\n",
      "    well_ax.add_patch(rect1)\n",
      "well_ax.set_xlim([0,1.25*width])\n",
      "well_ax.set_ylim([np.amax(bases), 0])\n",
      "\n",
      "well_ax.set_xticks([])\n",
      "\n",
      "well_ax.set_yticklabels([])\n",
      "well_ax.set_yticks([])\n",
      "\n",
      "# Hide the right and top spines\n",
      "well_ax.spines['right'].set_visible(False)\n",
      "well_ax.spines['top'].set_visible(False)\n",
      "well_ax.spines['bottom'].set_visible(False)\n",
      "# Turn on the right spine\n",
      "well_ax.spines['left'].set_position(('data', 0))\n",
      "\n",
      "#well_ax.patch.set_facecolor('white')\n",
      "well_ax.patch.set_alpha(0.5)\n"
     ],
     "language": "python",
     "metadata": {},
     "outputs": [
      {
       "metadata": {},
       "output_type": "display_data",
       "png": "[encoded data removed]",
       "text": [
        "<matplotlib.figure.Figure at 0x10f6de350>"
       ]
      }
     ],
     "prompt_number": 7
    },
    {
     "cell_type": "code",
     "collapsed": false,
     "input": [],
     "language": "python",
     "metadata": {},
     "outputs": [],
     "prompt_number": 7
    },
    {
     "cell_type": "code",
     "collapsed": false,
     "input": [
      "fsize = (17,22) # figure size in inches\n",
      "fbkgd = '#F7F7F7' # light grey so we can see the \"canvas\"\n",
      "xsec_extents = [0.1,0.1,0.8,0.8]"
     ],
     "language": "python",
     "metadata": {},
     "outputs": [],
     "prompt_number": 8
    },
    {
     "cell_type": "code",
     "collapsed": false,
     "input": [],
     "language": "python",
     "metadata": {},
     "outputs": []
    },
    {
     "cell_type": "code",
     "collapsed": false,
     "input": [
      "# make figure instance\n",
      "fig = plt.figure(figsize = fsize, facecolor = fbkgd)  # create figure, set size, set facecolor\n",
      "\n",
      "# make cross-section plane\n",
      "xsec_ax = fig.add_axes(xsec_extents)\n",
      "xsec_ax.imshow(xsec, extent = [xmin, xmax, zmax, zmin], aspect = ve, alpha = 0.00)\n",
      "\n",
      "fig.canvas.draw()\n",
      "xlabels=np.array(xsec_ax.get_xticks()/1000.0)\n",
      "ylabels=np.array(xsec_ax.get_yticks()/1000.0)\n",
      "xsec_ax.set_xticklabels(xlabels.astype(int))\n",
      "\n",
      "#xsec_ax.set_yticklabels(ylabels.astype(int))\n",
      "#xsec_ax.set_ylabel('Depth [km]',labelpad=20)\n",
      "new_xlabels = [r'%s m' % l.get_text() for l in\n",
      "                xsec_ax.xaxis.get_ticklabels()]\n",
      "new_ylabels = [r'%s m' % l.get_text() for l in\n",
      "                xsec_ax.yaxis.get_ticklabels()]\n",
      "xsec_ax.xaxis.set_ticklabels(new_xlabels)\n",
      "xsec_ax.yaxis.set_ticklabels(new_ylabels)\n",
      "\n",
      "\n",
      "xsec_ax.set_xlabel('Distance')\n",
      "xsec_ax.text(xmin, zmax,' transect name ',horizontalalignment='left',\n",
      "                verticalalignment='bottom')\n",
      "#xsec_ax.grid()\n",
      "\n",
      "# make elevation plot:\n",
      "elev_ax = fig.add_axes(xsec_extents)\n",
      "# elev_ax.plot(offset, -elevs, 'k', lw = 2)\n",
      "elev_ax.scatter(offset, -elevs, s= 50, c=colors, edgecolor = 'none', cmap='jet', zorder = 1)\n",
      "\n",
      "# make seismic axes (or more than one)\n",
      "seis_ax = fig.add_axes(xsec_extents)\n",
      "seis_ax.imshow(seismic, extent = [start_trace*dx, start_trace*dx + ntr*dx, max_z, srd], cmap = 'Greys', aspect = ve, alpha = 0.2)\n",
      "seis_ax.plot(seisx + start_trace*dx, hrz1, lw = 3, c = 'orange')\n",
      "seis_ax.plot(seisx + start_trace*dx, hrz2, lw = 3, c = 'y')\n",
      "seis_ax.set_xlim(left = xmin, right = xmax)\n",
      "seis_ax.set_ylim(bottom = zmax, top = zmin)\n",
      "seis_ax.text(start_trace*dx + ntr*dx, max_z,' seismic line name ',horizontalalignment='right',\n",
      "                verticalalignment='bottom')\n",
      "\n",
      "# make strip log of well (try to do more than one)\n",
      "well_ax = fig.add_axes(xsec_extents)\n",
      "well_ax.text(xpos, td*1.05,'Well\\nname',horizontalalignment='center',\n",
      "                verticalalignment='top')\n",
      "for t, b, w in zip(tops, bases, liths):\n",
      "    color = 'yellow'\n",
      "    if w > width/2:\n",
      "        color = 'brown'\n",
      "    rect1 = Rectangle((xpos, t), w, b - t, color=color, alpha = 0.5)\n",
      "    well_ax.add_patch(rect1)\n",
      "    well_ax.vlines(x=xpos, ymin=kb, ymax=td, color='k', zorder=2)\n",
      "\n",
      "tops = {'Alpha': td*0.2, 'Beta' : td*0.5, 'Epsilon' : td*0.75}\n",
      "kw = dict(rotation=0, verticalalignment='center', horizontalalignment='right')\n",
      "tops_bbox=dict(facecolor='white', edgecolor='black', \n",
      "               boxstyle='round', alpha = 0.5)\n",
      "\n",
      "for name, val in tops.iteritems():\n",
      "    well_ax.text(xpos - 500.0, val, name, fontsize = 8,\n",
      "                bbox = tops_bbox, **kw)\n",
      "    well_ax.scatter(xpos, val, s=50, c='k')\n",
      "\n",
      "# insert map area\n",
      "\"\"\"\n",
      "from mpl_toolkits.axes_grid1.inset_locator import inset_axes, zoomed_inset_axes\n",
      "map_ax = fig.add_axes([0.65, 0.375, 0.25, 0.10])\n",
      "bmap = Basemap(projection='merc', lat_0=45, lon_0=-63,\n",
      "        resolution = 'h', area_thresh = 0.1,\n",
      "        llcrnrlon=-67.0, llcrnrlat=43.5,\n",
      "        urcrnrlon=-59.0, urcrnrlat=47.5)\n",
      "bmap.drawcoastlines(color='#acacaf')\n",
      "bmap.drawcountries()\n",
      "bmap.fillcontinents(color='#d8d8db')\n",
      "bmap.drawmapboundary(color = 'white')\n",
      "bmap.ax = map_ax \n",
      "\"\"\""
     ],
     "language": "python",
     "metadata": {},
     "outputs": []
    },
    {
     "cell_type": "code",
     "collapsed": false,
     "input": [],
     "language": "python",
     "metadata": {},
     "outputs": []
    },
    {
     "cell_type": "code",
     "collapsed": false,
     "input": [],
     "language": "python",
     "metadata": {},
     "outputs": []
    },
    {
     "cell_type": "code",
     "collapsed": false,
     "input": [],
     "language": "python",
     "metadata": {},
     "outputs": []
    }
   ],
   "metadata": {}
  }
 ]
}