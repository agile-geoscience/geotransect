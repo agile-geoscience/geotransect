{
 "metadata": {
  "name": "",
  "signature": "sha256:1c9d2393dd95571cdcbd46fbcffccd030b314aac8df4e31d8a16fd13cfbbc48f"
 },
 "nbformat": 3,
 "nbformat_minor": 0,
 "worksheets": [
  {
   "cells": [
    {
     "cell_type": "code",
     "collapsed": false,
     "input": [
      "cd ~/geotransect/scripts/"
     ],
     "language": "python",
     "metadata": {},
     "outputs": [
      {
       "output_type": "stream",
       "stream": "stdout",
       "text": [
        "/Users/Evan/geotransect/scripts\n"
       ]
      }
     ],
     "prompt_number": 1
    },
    {
     "cell_type": "code",
     "collapsed": false,
     "input": [
      "import matplotlib.pyplot as plt\n",
      "import numpy as np\n",
      "% matplotlib "
     ],
     "language": "python",
     "metadata": {},
     "outputs": [
      {
       "output_type": "stream",
       "stream": "stdout",
       "text": [
        "Using matplotlib backend: MacOSX\n"
       ]
      }
     ],
     "prompt_number": 2
    },
    {
     "cell_type": "code",
     "collapsed": false,
     "input": [
      "from las import LASReader\n",
      "from lithology import intervals_from_las3_string\n",
      "from utils import summarize_rock\n",
      "from legends import helen, legend"
     ],
     "language": "python",
     "metadata": {},
     "outputs": [],
     "prompt_number": 3
    },
    {
     "cell_type": "code",
     "collapsed": false,
     "input": [
      "from matplotlib.patches import Rectangle\n",
      "from matplotlib.ticker import Formatter, FixedLocator"
     ],
     "language": "python",
     "metadata": {},
     "outputs": [],
     "prompt_number": 12
    },
    {
     "cell_type": "code",
     "collapsed": false,
     "input": [
      "import matplotlib.ticker as ticker\n",
      "import matplotlib as mpl\n",
      "import matplotlib.transforms as transforms"
     ],
     "language": "python",
     "metadata": {},
     "outputs": [],
     "prompt_number": 21
    },
    {
     "cell_type": "code",
     "collapsed": false,
     "input": [
      "import csv\n",
      "from StringIO import StringIO\n",
      "import re"
     ],
     "language": "python",
     "metadata": {},
     "outputs": [],
     "prompt_number": 13
    },
    {
     "cell_type": "code",
     "collapsed": false,
     "input": [],
     "language": "python",
     "metadata": {},
     "outputs": [],
     "prompt_number": 149
    },
    {
     "cell_type": "code",
     "collapsed": false,
     "input": [
      "cd ../data/wells/"
     ],
     "language": "python",
     "metadata": {},
     "outputs": [
      {
       "output_type": "stream",
       "stream": "stdout",
       "text": [
        "/Users/Evan/geotransect/data/wells\n"
       ]
      }
     ],
     "prompt_number": 5
    },
    {
     "cell_type": "code",
     "collapsed": false,
     "input": [
      "lithwell = LASReader('P-129/lithology_log/P-129_striplog.las', unknown_as_other=True)"
     ],
     "language": "python",
     "metadata": {},
     "outputs": [
      {
       "output_type": "stream",
       "stream": "stderr",
       "text": [
        "/Users/Evan/Library/Enthought/Canopy_64bit/User/lib/python2.7/site-packages/numpy/lib/npyio.py:816: UserWarning: loadtxt: Empty input file: \"<open file 'P-129/lithology_log/P-129_striplog.las', mode 'r' at 0x10e2c0540>\"\n",
        "  warnings.warn('loadtxt: Empty input file: \"%s\"' % fname)\n"
       ]
      }
     ],
     "prompt_number": 6
    },
    {
     "cell_type": "code",
     "collapsed": false,
     "input": [
      "striplog = intervals_from_las3_string(lithwell.other)"
     ],
     "language": "python",
     "metadata": {},
     "outputs": [],
     "prompt_number": 7
    },
    {
     "cell_type": "code",
     "collapsed": false,
     "input": [
      "striplog.keys()"
     ],
     "language": "python",
     "metadata": {},
     "outputs": [
      {
       "metadata": {},
       "output_type": "pyout",
       "prompt_number": 50,
       "text": [
        "['bases', 'tops', 'liths']"
       ]
      }
     ],
     "prompt_number": 50
    },
    {
     "cell_type": "code",
     "collapsed": false,
     "input": [
      "logs = LASReader('P-129/wireline_log/P-129_out.LAS')"
     ],
     "language": "python",
     "metadata": {},
     "outputs": [],
     "prompt_number": 8
    },
    {
     "cell_type": "code",
     "collapsed": false,
     "input": [
      "Z = logs.data['DEPT']\n",
      "GR = logs.data['GR']\n",
      "DT = logs.data['DT'] \n",
      "DPHISS = logs.data['DPHI_SAN']\n",
      "NPHISS = logs.data['NPHI_SAN']\n",
      "DTS = logs.data['DTS']\n",
      "RT_HRLT = logs.data['RT_HRLT']\n",
      "RHOB = logs.data['RHOB']\n",
      "DRHO = logs.data['DRHO']"
     ],
     "language": "python",
     "metadata": {},
     "outputs": [],
     "prompt_number": 26
    },
    {
     "cell_type": "code",
     "collapsed": false,
     "input": [
      "log_dict = {\n",
      "            'GR':GR, \n",
      "            'DT':DT, \n",
      "            'DPHI_SAN':DPHISS,\n",
      "            'NPHI_SAN':NPHISS,\n",
      "            'DTS':DTS, \n",
      "            'RT_HRLT':RT_HRLT,\n",
      "            'RHOB':RHOB,\n",
      "            'DRHO':DRHO\n",
      "            }"
     ],
     "language": "python",
     "metadata": {},
     "outputs": [],
     "prompt_number": 27
    },
    {
     "cell_type": "code",
     "collapsed": false,
     "input": [
      "# to do\n",
      "# do top and base specification \n",
      "# add vertical lines\n",
      "# make sure all logs are right color\n",
      "# finish with fills\n",
      "# get and plot tops\n",
      "# Make depth track\n",
      "# Make synthetic track\n",
      "# Make Time-Depth Track\n"
     ],
     "language": "python",
     "metadata": {},
     "outputs": [],
     "prompt_number": 14
    },
    {
     "cell_type": "code",
     "collapsed": false,
     "input": [
      "def plot_striplog(ax, striplog, legend, width=1, ladder=False, summaries=False, minthick=1, alpha=0.75):\n",
      "    \n",
      "    for t, b, l in zip(striplog['tops'],striplog['bases'], striplog['liths']):\n",
      "        origin = (0, t)\n",
      "        colour = '#' + l['map colour'].strip()\n",
      "        thick = b - t\n",
      "        \n",
      "        if ladder:\n",
      "            w = legend[colour[1:]]['width']\n",
      "        else:\n",
      "            w = width\n",
      "            \n",
      "        rect = Rectangle(origin, w, thick, color=colour, edgecolor='k', \n",
      "                         linewidth=1.0, alpha=alpha)\n",
      "        ax.add_patch(rect)\n",
      "\n",
      "        if summaries:\n",
      "            if thick >= minthick:\n",
      "                ax.text(6, t+thick/2, summarize(l), verticalalignment='center')\n",
      "\n",
      "    return ax"
     ],
     "language": "python",
     "metadata": {},
     "outputs": [],
     "prompt_number": 15
    },
    {
     "cell_type": "code",
     "collapsed": false,
     "input": [
      "fig = plt.figure()\n",
      "ax = fig.add_subplot(111)\n",
      "plot_striplog(ax, striplog, legend)\n",
      "ax.set_ylim([striplog['bases'][-1], 0])"
     ],
     "language": "python",
     "metadata": {},
     "outputs": [
      {
       "metadata": {},
       "output_type": "pyout",
       "prompt_number": 53,
       "text": [
        "(1905.471, 0)"
       ]
      }
     ],
     "prompt_number": 53
    },
    {
     "cell_type": "code",
     "collapsed": false,
     "input": [
      "def get_curve_params(abbrev, fname):\n",
      "    \"\"\"\n",
      "    returns a dictionary of petrophysical parameters for \n",
      "    plotting purposes\n",
      "    \"\"\"\n",
      "    params = {}\n",
      "    with open(fname, 'rU') as csvfile:\n",
      "        reader = csv.DictReader(csvfile) \n",
      "        for row in reader:\n",
      "            if row['acronymn'] == abbrev:\n",
      "                params['acronymn'] = row['acronymn']\n",
      "                params['track'] = int(row['track'])\n",
      "                params['units'] = row['units']\n",
      "                params['xleft'] = float(row['xleft'])\n",
      "                params['xright'] = float(row['xright'])\n",
      "                params['logarithmic'] = row['logarithmic']\n",
      "                params['hexcolor']= row['hexcolor']\n",
      "                params['fill_left_cond']= bool(row['fill_left_cond'])\n",
      "                params['fill_left']= row['fill_left']\n",
      "                params['fill_right_cond']= bool(row['fill_right_cond'])\n",
      "                params['fill_right']= row['fill_right']\n",
      "                params['xticks'] = row['xticks'].split(',')\n",
      "    return params"
     ],
     "language": "python",
     "metadata": {},
     "outputs": [],
     "prompt_number": 16
    },
    {
     "cell_type": "code",
     "collapsed": false,
     "input": [
      "fname = '../../scripts/Petrophysics_display_template.csv'\n",
      "params = get_curve_params('RT_HRLT', fname)"
     ],
     "language": "python",
     "metadata": {},
     "outputs": [],
     "prompt_number": 17
    },
    {
     "cell_type": "code",
     "collapsed": false,
     "input": [
      "print \" * curves we have are: *\"\n",
      "for curve in log_dict:\n",
      "    print \"       \", curve"
     ],
     "language": "python",
     "metadata": {},
     "outputs": [
      {
       "output_type": "stream",
       "stream": "stdout",
       "text": [
        " * curves we have are: *\n",
        "        DTS\n",
        "        RT_HRLT\n",
        "        GR\n",
        "        DPHI_SAN\n",
        "        NPHI_SAN\n",
        "        RHOB\n",
        "        DT\n",
        "        DRHO\n"
       ]
      }
     ],
     "prompt_number": 29
    },
    {
     "cell_type": "code",
     "collapsed": false,
     "input": [
      "plt.plot(Z,DRHO)"
     ],
     "language": "python",
     "metadata": {},
     "outputs": [
      {
       "metadata": {},
       "output_type": "pyout",
       "prompt_number": 30,
       "text": [
        "[<matplotlib.lines.Line2D at 0x118570590>]"
       ]
      }
     ],
     "prompt_number": 30
    },
    {
     "cell_type": "code",
     "collapsed": false,
     "input": [
      "# Subplots adjustment params\n",
      "\n",
      "left  = 0.125  # the left side of the subplots of the figure\n",
      "right = 0.9    # the right side of the subplots of the figure\n",
      "bottom = 0.1   # the bottom of the subplots of the figure\n",
      "top = 0.9      # the top of the subplots of the figure\n",
      "wspace = 0.1   # the amount of width reserved for blank space between subplots\n",
      "hspace = 0.5   # the amount of height reserved for white space between subplots"
     ],
     "language": "python",
     "metadata": {},
     "outputs": [],
     "prompt_number": 19
    },
    {
     "cell_type": "markdown",
     "metadata": {},
     "source": [
      "Fixing, editing and despiking logs for better display"
     ]
    },
    {
     "cell_type": "code",
     "collapsed": false,
     "input": [
      "def rolling_window(a, window):\n",
      "        shape = a.shape[:-1] + (a.shape[-1] - window + 1, window)\n",
      "        strides = a.strides + (a.strides[-1],)\n",
      "        rolled = np.lib.stride_tricks.as_strided(a, \n",
      "                                                 shape=shape, \n",
      "                                                 strides=strides)\n",
      "        rolled = np.median(rolled, -1)\n",
      "        rolled = np.pad(rolled, window/2, mode='edge')\n",
      "        return rolled\n",
      "    \n",
      "def despike(curve, curve_sm, max_clip): \n",
      "    spikes = np.where(curve - curve_sm > max_clip)[0]\n",
      "    spukes = np.where(curve_sm - curve > max_clip)[0]\n",
      "    out = np.copy(curve)\n",
      "    out[spikes] = curve_sm[spikes] + max_clip  # Clip at the max allowed diff\n",
      "    out[spukes] = curve_sm[spukes] - max_clip  # Clip at the min allowed diff\n",
      "    return out"
     ],
     "language": "python",
     "metadata": {},
     "outputs": [],
     "prompt_number": 20
    },
    {
     "cell_type": "code",
     "collapsed": false,
     "input": [
      "def make_depth_track(ax,Z):\n",
      "    ax.plot(np.zeros(len(Z)), Z)\n",
      "    return ax.plot(np.zeros(len(Z)), Z)"
     ],
     "language": "python",
     "metadata": {},
     "outputs": []
    },
    {
     "cell_type": "code",
     "collapsed": false,
     "input": [
      "# make plot\n",
      "window = 51 # window length for smoothing must be an odd integer\n",
      "frac = 0.05\n",
      "ntracks = 5\n",
      "lw = 1.0\n",
      "smooth = True\n",
      "has_striplog = True\n",
      "height = 2.5*ntracks  # in inches\n",
      "width = 1.5*ntracks # in inches\n",
      "fs = 12  #font size for curve labels\n",
      "\n",
      "\n",
      "naxes = 0\n",
      "ncurv_per_track = np.zeros(ntracks)\n",
      "\n",
      "if has_striplog:\n",
      "    ncurv_per_track[0]=1\n",
      "\n",
      "for curve, values in log_dict.iteritems(): \n",
      "    naxes += 1\n",
      "    params =  get_curve_params(curve, fname)\n",
      "    ncurv_per_track[params['track']] += 1\n",
      "\n",
      "fig, axs = plt.subplots(1, ntracks, figsize=(width, height))\n",
      "fig.subplots_adjust(left, bottom, right, top, wspace, hspace)\n",
      "fig.set_facecolor('w')\n",
      "\n",
      "axss = axs[0]\n",
      "axs0 = [axss, axs[0].twiny()]\n",
      "axs1 = [axs[1]]\n",
      "axs2 = [axs[2]]\n",
      "axs3 = [axs[3]]\n",
      "axs4 = [axs[4]]\n",
      "\n",
      "axs = [axs0, axs1, axs2, axs3, axs4]\n",
      "\n",
      "plot_striplog(axs0[0], striplog, legend, width = 5, alpha = 0.75, ladder=True)\n",
      "\n",
      "axs0[0].set_ylim([striplog['bases'][-1], 0])\n",
      "\n",
      "# Plot each curve with a white fill to fake the curve fill.\n",
      "\n",
      "label_shift = np.zeros(len(axs))\n",
      "\n",
      "for curve, values in log_dict.iteritems():\n",
      "    \n",
      "    params = get_curve_params(curve, fname)\n",
      "    \n",
      "    i = params['track']\n",
      "    \n",
      "    if i == 0:\n",
      "        j = 1\n",
      "    \n",
      "    j = 0  # default number of tracks to index into\n",
      "    \n",
      "    ncurves = ncurv_per_track[i]\n",
      "    \n",
      "    label_shift[i] += 1\n",
      "    \n",
      "    units = '$%s$' % params['units']\n",
      "        \n",
      "    #crvtxt = params['acronymn']+ '\\n' + '\\n' + units\n",
      "\n",
      "    linOrlog = params['logarithmic']\n",
      "    \n",
      "    sxticks = np.array(params['xticks'])\n",
      "    xticks = np.array(sxticks, dtype = float)\n",
      "    whichticks = 'major'\n",
      "    \n",
      "    if linOrlog == 'log':\n",
      "        midline = np.log(np.mean(xticks))\n",
      "        xpos = midline \n",
      "        whichticks = 'minor'\n",
      "    else:\n",
      "        midline = np.mean(xticks)\n",
      "        xpos = midline \n",
      "    \n",
      "    if smooth == True:\n",
      "        values = rolling_window(values,window)\n",
      "        \n",
      "    if params['acronymn']=='GR':\n",
      "        j = 1  # second axis in first track\n",
      "        label_shift[i] = 1\n",
      "    #if params['acronymn']=='RHOB':\n",
      "    #    j = 2\n",
      "    #    label_shift[i] = 1\n",
      "        \n",
      "    #fill_left\n",
      "    if params['fill_left_cond']:\n",
      "        print params['fill_left_cond']\n",
      "        if params['acronymn']=='GR':\n",
      "            # do the fill for the lithology track\n",
      "            axs[i][j].fill_betweenx(Z, params['xleft'], values,\n",
      "                            facecolor=params['fill_left'], alpha = 1.0, \n",
      "                            zorder = 11)\n",
      "            \n",
      "        if params['acronymn']=='DPHI_SAN':\n",
      "            # do the fill for the neutron porosity track\n",
      "            nphi = rolling_window(log_dict['NPHI_SAN'],window)\n",
      "            axs[i][j].fill_betweenx(Z, \n",
      "                                    nphi,\n",
      "                                    values,\n",
      "                                    where=nphi>=values,\n",
      "                                    facecolor=params['fill_left'], \n",
      "                                    alpha = 1.0, \n",
      "                                    zorder = 11)\n",
      "            \n",
      "            axs[i][j].fill_betweenx(Z, \n",
      "                                    nphi,\n",
      "                                    values,\n",
      "                                    where=nphi<=values,\n",
      "                                    facecolor='#8C1717', \n",
      "                                    alpha = 0.5, \n",
      "                                    zorder = 12)\n",
      "            \n",
      "    if params['acronymn']=='DRHO':\n",
      "        blk_drho = 3.2\n",
      "        values += blk_drho   # this is a hack to get DRHO on RHOB scale\n",
      "        axs[i][j].fill_betweenx(Z, \n",
      "                                blk_drho,\n",
      "                                values,\n",
      "                                where=nphi<=values,\n",
      "                                facecolor='#CCCCCC', \n",
      "                                alpha = 0.5, \n",
      "                                zorder = 12)\n",
      "\n",
      "    # fill right        \n",
      "    if params['fill_right_cond']:\n",
      "        axs[i][j].fill_betweenx(Z, values, params['xright'],\n",
      "                            facecolor=params['fill_right'], \n",
      "                            alpha = 1.0, zorder = 12)\n",
      "    # plot curve        \n",
      "    axs[i][j].plot(values, Z, color = params['hexcolor'],\n",
      "                   lw = lw, zorder = 13)\n",
      "        \n",
      "    # set scale of curve\n",
      "    axs[i][j].set_xlim([params['xleft'],params['xright']])\n",
      "    print 'xticks', xticks\n",
      "    #print 'strings', sxticks\n",
      "    axs[i][j].xaxis.set_ticks([xticks])\n",
      "    axs[i][j].set_xticklabels([sxticks])\n",
      "    \n",
      "    for label in axs[i][j].axes.xaxis.get_ticklabels():\n",
      "        label.set_rotation(90)\n",
      "            \n",
      "    axs[i][j].tick_params(axis='x', direction='out')\n",
      "        \n",
      "    # set curve label and units beneath it\n",
      "    # if this is the first curve on the axis\n",
      "    \n",
      "    # curve label\n",
      "    \n",
      "    trans = transforms.blended_transform_factory(axs[i][j].transData, axs[i][j].transData)\n",
      "    axs[i][j].text(xpos, -120 - 40*(label_shift[i] - 1), params['acronymn'],  \n",
      "                   horizontalalignment='center',                    \n",
      "                   verticalalignment='bottom',\n",
      "                   fontsize=12, color=params['hexcolor'],\n",
      "                   transform=trans)\n",
      "    # curve units\n",
      "    if label_shift[i] <= 1:\n",
      "        axs[i][j].text(xpos, -100, units,\n",
      "                   horizontalalignment='center',\n",
      "                   verticalalignment='top',\n",
      "                   fontsize=12, color='k',\n",
      "                   transform=trans)\n",
      "    \n",
      "    axs[i][j].set_xscale(linOrlog)\n",
      "    axs[i][j].set_ylim([striplog['bases'][-1], 0]) \n",
      "    \n",
      "    axs[i][j].axes.xaxis.set_ticklabels(xticks)\n",
      "    \n",
      "    axs[i][j].xaxis.tick_top()\n",
      "    axs[i][j].xaxis.set_label_position('top') \n",
      "    \n",
      "    axs[i][j].xaxis.grid(True, which=whichticks,\n",
      "                         linewidth=0.5, linestyle='-', \n",
      "                         color='0.85', zorder = 100)\n",
      "    \n",
      "    axs[i][j].yaxis.grid(True, which=whichticks,\n",
      "                         linewidth=0.5, linestyle='-',\n",
      "                         color='0.85', zorder = 100)\n",
      "    \n",
      "    axs[i][j].yaxis.set_ticks(np.arange(0,max(Z),100))\n",
      "    if i != 0:\n",
      "        axs[i][j].set_yticklabels(\"\")\n",
      "    \n",
      "    # add Depth label\n",
      "\n",
      "#axs[0][0].set_ylabel('MD \\n $m$',color=hgrey, top)\n",
      "axs[0][0].text(-0.25, 50, 'MD \\n $m$ ', fontsize = '9',\n",
      "               horizontalalignment='left',\n",
      "               verticalalignment='center',)\n",
      "axs[0][0].axes.yaxis.get_ticklabels()\n",
      "axs[0][0].axes.xaxis.set_ticklabels('')\n",
      "for label in axs[0][0].axes.yaxis.get_ticklabels():\n",
      "        label.set_rotation(90)\n",
      "        label.set_fontsize(10)\n",
      "fig.show()"
     ],
     "language": "python",
     "metadata": {},
     "outputs": [
      {
       "output_type": "stream",
       "stream": "stdout",
       "text": [
        "xticks [  40.   60.   80.  100.  120.  140.]\n",
        "xticks"
       ]
      },
      {
       "output_type": "stream",
       "stream": "stdout",
       "text": [
        " [   0.2    2.    20.   200. ]\n",
        "True\n",
        "xticks"
       ]
      },
      {
       "output_type": "stream",
       "stream": "stdout",
       "text": [
        " [  25.   50.   75.  100.  125.  150.]\n",
        "True\n",
        "xticks"
       ]
      },
      {
       "output_type": "stream",
       "stream": "stdout",
       "text": [
        " [ 0.3   0.15  0.  ]\n",
        "xticks"
       ]
      },
      {
       "output_type": "stream",
       "stream": "stdout",
       "text": [
        " [ 0.3   0.15  0.  ]\n",
        "xticks [ 2.25  2.5   2.75  3.  ]\n",
        "xticks"
       ]
      },
      {
       "output_type": "stream",
       "stream": "stdout",
       "text": [
        " [  40.   60.   80.  100.  120.  140.]\n",
        "xticks [ 2.25  2.5   2.75  3.  ]\n"
       ]
      }
     ],
     "prompt_number": 194
    },
    {
     "cell_type": "code",
     "collapsed": false,
     "input": [],
     "language": "python",
     "metadata": {},
     "outputs": [],
     "prompt_number": 145
    },
    {
     "cell_type": "code",
     "collapsed": false,
     "input": [
      "plt.plot([1,2,3,4],color ='(100,20,20)')"
     ],
     "language": "python",
     "metadata": {},
     "outputs": [
      {
       "metadata": {},
       "output_type": "pyout",
       "prompt_number": 103,
       "text": [
        "[<matplotlib.lines.Line2D at 0x1177281d0>]"
       ]
      }
     ],
     "prompt_number": 103
    },
    {
     "cell_type": "code",
     "collapsed": false,
     "input": [
      "from matplotlib.colors import hsv_to_rgb\n",
      "\n",
      "V, H = np.mgrid[0:1:100j, 0:1:300j]\n",
      "S = np.ones_like(V)\n",
      "HSV = np.dstack((H,S,V))\n",
      "RGB = hsv_to_rgb(HSV)\n",
      "plt.imshow(RGB, origin=\"lower\", extent=[0, 360, 0, 1], aspect=150)\n",
      "plt.xlabel(\"H\")\n",
      "plt.ylabel(\"V\")\n",
      "plt.title(\"$S_{HSV}=1$\")\n",
      "plt.show()"
     ],
     "language": "python",
     "metadata": {},
     "outputs": [],
     "prompt_number": 111
    },
    {
     "cell_type": "code",
     "collapsed": false,
     "input": [],
     "language": "python",
     "metadata": {},
     "outputs": [
      {
       "metadata": {},
       "output_type": "pyout",
       "prompt_number": 112,
       "text": [
        "(100, 300, 3)"
       ]
      }
     ],
     "prompt_number": 112
    },
    {
     "cell_type": "code",
     "collapsed": false,
     "input": [],
     "language": "python",
     "metadata": {},
     "outputs": [
      {
       "metadata": {},
       "output_type": "pyout",
       "prompt_number": 114,
       "text": [
        "array([[ 0.1  ,  0.092,  0.08 ]])"
       ]
      }
     ],
     "prompt_number": 114
    },
    {
     "cell_type": "code",
     "collapsed": false,
     "input": [],
     "language": "python",
     "metadata": {},
     "outputs": [],
     "prompt_number": 146
    },
    {
     "cell_type": "code",
     "collapsed": false,
     "input": [],
     "language": "python",
     "metadata": {},
     "outputs": []
    }
   ],
   "metadata": {}
  }
 ]
}